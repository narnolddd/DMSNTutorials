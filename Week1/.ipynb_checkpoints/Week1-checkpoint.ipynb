{
 "cells": [
  {
   "cell_type": "markdown",
   "metadata": {},
   "source": [
    "#  Week 1: Networks and Random Graphs\n",
    "\n",
    "## Packages used:\n",
    "* networkx\n",
    "* matplotlib\n",
    "* numpy"
   ]
  },
  {
   "cell_type": "code",
   "execution_count": null,
   "metadata": {},
   "outputs": [],
   "source": [
    "import networkx as nx\n",
    "import matplotlib.pyplot as plt\n",
    "import numpy as np\n",
    "from collections import Counter\n",
    "\n",
    "import warnings\n",
    "warnings.filterwarnings(\"ignore\")"
   ]
  },
  {
   "cell_type": "markdown",
   "metadata": {},
   "source": [
    "## What do Erdos-Renyi Graphs look like?\n",
    "\n",
    "How does the value of *p* affect the structure of graph that we see? If you're trying this on your own, have a play around with the different values of p and see how the picture changes."
   ]
  },
  {
   "cell_type": "code",
   "execution_count": null,
   "metadata": {},
   "outputs": [],
   "source": [
    "n = 100\n",
    "p = 0.3\n",
    "\n",
    "G = nx.gnp_random_graph(n,p)\n",
    "nx.draw(G, node_size=30)\n",
    "\n",
    "print(\"Clustering Coefficient: %f \"%nx.average_clustering(G))\n",
    "print(\"Average Degree: %f\" %np.mean([G.degree(n) for n in G.nodes()]))"
   ]
  },
  {
   "cell_type": "markdown",
   "metadata": {},
   "source": [
    "## Example: Zachary's Karate Club social graph"
   ]
  },
  {
   "cell_type": "code",
   "execution_count": null,
   "metadata": {},
   "outputs": [],
   "source": [
    "G = nx.karate_club_graph()\n",
    "\n",
    "no_nodes = len(G.nodes())\n",
    "no_edges = len(G.edges())\n",
    "\n",
    "p = 2.0*no_edges/(no_nodes*no_nodes)\n",
    "\n",
    "H = nx.gnp_random_graph(no_nodes,p)\n",
    "\n",
    "plt.title(\"Zachary's Karate Club Graph\",fontsize=20)\n",
    "nx.draw(G,node_size=100,node_color='blue')\n",
    "plt.show()"
   ]
  },
  {
   "cell_type": "markdown",
   "metadata": {},
   "source": [
    "How does a random graph of the same size and (expected) number of edges compare?"
   ]
  },
  {
   "cell_type": "code",
   "execution_count": null,
   "metadata": {},
   "outputs": [],
   "source": [
    "no_nodes = len(G.nodes())\n",
    "no_edges = len(G.edges())\n",
    "\n",
    "p = 2.0*no_edges/(no_nodes*no_nodes)\n",
    "\n",
    "H = nx.gnp_random_graph(no_nodes,p)\n",
    "plt.title(\"Random Graph with the same number of nodes and edges\",fontsize=20)\n",
    "nx.draw(H,node_size=100)\n",
    "plt.show()"
   ]
  },
  {
   "cell_type": "markdown",
   "metadata": {},
   "source": [
    "# Degree-based statistics\n",
    "\n",
    "Let's look at the degree distribution of the Karate Club, compared with a random graph with the same number of nodes and edges."
   ]
  },
  {
   "cell_type": "code",
   "execution_count": null,
   "metadata": {},
   "outputs": [],
   "source": [
    "degrees_G = [d for n, d in G.degree()]\n",
    "degrees_H = [d for n, d in H.degree()]\n",
    "\n",
    "avg_deg = 2.0 * no_edges/no_nodes\n",
    "\n",
    "a4_dims = (11.7, 8.27)\n",
    "fig, ax = plt.subplots(figsize=a4_dims)\n",
    "\n",
    "plt.xlabel('Node Degree',fontsize=20)\n",
    "plt.ylabel('Frequency',fontsize=20)\n",
    "plt.tick_params(labelsize=20)\n",
    "\n",
    "plt.axvline(x=avg_deg, linewidth=2, linestyle='--', color='black')\n",
    "\n",
    "plt.hist(degrees_G,bins=17,label=\"Karate Club\",alpha=0.5,color='blue')\n",
    "plt.hist(degrees_H,bins=17,label='Random Graph',alpha=0.5,color='red')\n",
    "plt.legend(loc='upper right',fontsize=20)\n",
    "plt.show()"
   ]
  },
  {
   "cell_type": "markdown",
   "metadata": {},
   "source": [
    "The code below plots the CCDF of the degree distribution allowing us to inspect the tails of the degree distribution"
   ]
  },
  {
   "cell_type": "code",
   "execution_count": null,
   "metadata": {},
   "outputs": [],
   "source": [
    "degree_sequence = sorted([d for n, d in G.degree()])  # degree sequence\n",
    "# print \"Degree sequence\", degree_sequence\n",
    "degreeCount = Counter(degree_sequence)\n",
    "deg, cnt = zip(*degreeCount.items())\n",
    "cdf = np.array([c for c in cnt]).cumsum(0)\n",
    "cdf = cdf/float(cdf[-1])\n",
    "ccdf = 1-cdf\n",
    "\n",
    "a4_dims = (11.7, 8.27)\n",
    "\n",
    "fig, ax = plt.subplots(figsize=a4_dims)\n",
    "plt.xlabel('Node degree $k$',fontsize=20)\n",
    "plt.ylabel('$P(K>k)$',fontsize=20)\n",
    "plt.tick_params(labelsize=20)\n",
    "\n",
    "plt.xscale('log')\n",
    "plt.yscale('log')\n",
    "plt.plot(deg,ccdf,label = 'Karate club',linewidth=3,color='blue')\n",
    "\n",
    "no_nodes = 34\n",
    "no_edges = 78\n",
    "\n",
    "H = nx.gnm_random_graph(34,78)\n",
    "degree_sequence = sorted([d for n, d in H.degree()])  # degree sequence\n",
    "# print \"Degree sequence\", degree_sequence\n",
    "degreeCount = Counter(degree_sequence)\n",
    "deg, cnt = zip(*degreeCount.items())\n",
    "cdf = np.array([c for c in cnt]).cumsum(0)\n",
    "cdf = cdf/float(cdf[-1])\n",
    "ccdf = 1-cdf\n",
    "plt.plot(deg,ccdf,label = 'Random Graph',linewidth=3,linestyle='--',color='red')\n",
    "plt.legend(loc='lower left',fontsize=20)\n",
    "plt.title(\"Degree distribution of Karate Club and Random Graph\",fontsize=20)\n",
    "\n",
    "plt.show()"
   ]
  },
  {
   "cell_type": "markdown",
   "metadata": {},
   "source": [
    "# Clustering coefficient\n",
    "\n",
    "How does the node and average clustering coefficient compare between the real and random graph? The code below computes the clustering coefficients for each graph"
   ]
  },
  {
   "cell_type": "code",
   "execution_count": null,
   "metadata": {},
   "outputs": [],
   "source": [
    "clusters_G = list(nx.clustering(G).values())\n",
    "avg_cluster_G = sum(clusters_G)/float(no_nodes)\n",
    "clusters_H = list(nx.clustering(H).values())\n",
    "avg_cluster_H = sum(clusters_H)/float(no_nodes)"
   ]
  },
  {
   "cell_type": "markdown",
   "metadata": {},
   "source": [
    "As with node degre, we can look at the distribution of the clustering coefficients."
   ]
  },
  {
   "cell_type": "code",
   "execution_count": null,
   "metadata": {},
   "outputs": [],
   "source": [
    "a4_dims = (11.7, 8.27)\n",
    "\n",
    "fig, ax = plt.subplots(figsize=a4_dims)\n",
    "\n",
    "plt.xlabel('Node Clustering Coefficient',fontsize=20)\n",
    "plt.ylabel('Frequency',fontsize=20)\n",
    "plt.tick_params(labelsize=20)\n",
    "\n",
    "plt.hist(clusters_G,bins=20,label=\"Karate Club\",alpha=0.5,color='blue')\n",
    "plt.hist(clusters_H,bins=20,label='Random Graph',alpha=0.5,color='red')\n",
    "\n",
    "plt.axvline(x=avg_cluster_G, linestyle='--', color='blue')\n",
    "plt.axvline(x=avg_cluster_H, linestyle='--', color='red')\n",
    "\n",
    "plt.legend(loc='upper center',fontsize=20)\n",
    "\n",
    "plt.show()"
   ]
  },
  {
   "cell_type": "markdown",
   "metadata": {},
   "source": [
    "# Path lengths and diameter\n",
    "\n",
    "Finally, how do the lengths of paths between nodes compare? Below is some code for computing lenghts of paths between every pair of nodes in each graph."
   ]
  },
  {
   "cell_type": "code",
   "execution_count": null,
   "metadata": {},
   "outputs": [],
   "source": [
    "def get_path_lengths(graph):\n",
    "    lengths = []\n",
    "    for i in range(G.number_of_nodes()):\n",
    "        for j in range(i):\n",
    "            lengths.append(len(nx.shortest_path(graph,i,j))-1)\n",
    "    return lengths\n",
    "\n",
    "path_lengths_G = get_path_lengths(G)\n",
    "path_lengths_H = get_path_lengths(H)"
   ]
  },
  {
   "cell_type": "code",
   "execution_count": null,
   "metadata": {},
   "outputs": [],
   "source": [
    "avg_path_G = sum(path_lengths_G)/float(len(path_lengths_G))\n",
    "avg_path_H = sum(path_lengths_H)/float(len(path_lengths_H))"
   ]
  },
  {
   "cell_type": "code",
   "execution_count": null,
   "metadata": {},
   "outputs": [],
   "source": [
    "a4_dims = (11.7, 8.27)\n",
    "\n",
    "fig, ax = plt.subplots(figsize=a4_dims)\n",
    "\n",
    "plt.xlabel('Path Length',fontsize=20)\n",
    "plt.ylabel('Frequency',fontsize=20)\n",
    "\n",
    "plt.hist(path_lengths_G,bins=4,label=\"Karate Club\",alpha=0.5,color='blue')\n",
    "plt.hist(path_lengths_H,bins=4,label='Random Graph',alpha=0.5,color='red')\n",
    "\n",
    "plt.axvline(x=avg_path_G, linestyle='--', color='blue')\n",
    "plt.axvline(x=avg_path_H, linestyle='--', color='red')\n",
    "\n",
    "plt.legend(loc='upper right',fontsize=20)\n",
    "\n",
    "plt.show()"
   ]
  }
 ],
 "metadata": {
  "kernelspec": {
   "display_name": "Python 3",
   "language": "python",
   "name": "python3"
  },
  "language_info": {
   "codemirror_mode": {
    "name": "ipython",
    "version": 3
   },
   "file_extension": ".py",
   "mimetype": "text/x-python",
   "name": "python",
   "nbconvert_exporter": "python",
   "pygments_lexer": "ipython3",
   "version": "3.6.5"
  }
 },
 "nbformat": 4,
 "nbformat_minor": 2
}
