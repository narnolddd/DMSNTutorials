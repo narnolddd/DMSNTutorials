{
 "cells": [
  {
   "cell_type": "code",
   "execution_count": 1,
   "metadata": {},
   "outputs": [
    {
     "name": "stdout",
     "output_type": "stream",
     "text": [
      "no display found. Using non-interactive Agg backend\n"
     ]
    }
   ],
   "source": [
    "import warnings\n",
    "warnings.filterwarnings('ignore')\n",
    "\n",
    "import networkx as nx\n",
    "import numpy as np\n",
    "import matplotlib.pyplot as plt\n",
    "\n",
    "import ndlib.models.ModelConfig as mc\n",
    "import ndlib.models.epidemics as ep\n",
    "from ndlib.viz.mpl.DiffusionTrend import DiffusionTrend\n",
    "\n",
    "from collections import defaultdict\n",
    "\n",
    "a4_dims = (11.7, 8.27)"
   ]
  },
  {
   "cell_type": "code",
   "execution_count": null,
   "metadata": {},
   "outputs": [],
   "source": [
    "def vis_cascade(G, seed, threshold, nosteps):\n",
    "    no_nodes = len(G.nodes())\n",
    "    model = ep.ThresholdModel(G)\n",
    "    config = mc.Configuration()\n",
    "    \n",
    "    infected_initial = seed\n",
    "    for i in G.nodes():\n",
    "        config.add_node_configuration(\"threshold\", i, threshold)\n",
    "        \n",
    "    config.add_model_initial_configuration(\"Infected\", infected_initial)\n",
    "    model.set_initial_status(config)\n",
    "    \n",
    "    infected = defaultdict(lambda: False)\n",
    "\n",
    "    iterations = model.iteration_bunch(nosteps)\n",
    "    trends = model.build_trends(iterations)\n",
    "    viz = DiffusionTrend(model, trends)\n",
    "\n",
    "    for j in range(nosteps):\n",
    "        for node in iterations[j]['status'].keys():\n",
    "            if iterations[j]['status'][node]==1:\n",
    "                infected[node]=True\n",
    "                \n",
    "    times = np.array(range(nosteps))\n",
    "    no_infected = np.array([iterations[i]['node_count'][1] for i in range(nosteps)])/no_nodes\n",
    "\n",
    "    fig, ax = plt.subplots(nrows=1,ncols=2,figsize = a4_dims)\n",
    "    \n",
    "    ax[1].plot(times,no_infected, linewidth=3)\n",
    "    ax[1].set_xlabel(\"Time (iteration number)\", fontsize=20)\n",
    "    ax[1].set_ylabel(\"Proportion of adopters\", fontsize=20)\n",
    "    ax[1].set_ylim(0,1)\n",
    "\n",
    "    pos = nx.spring_layout(G)\n",
    "    pos = nx.kamada_kawai_layout(G,pos=pos)\n",
    "\n",
    "    nx.draw_networkx_nodes(G, ax=ax[0], nodelist = [nd for nd in G.nodes() if infected[nd]], \n",
    "                           pos=pos, node_color='red')\n",
    "    nx.draw_networkx_nodes(G, ax=ax[0], nodelist = [nd for nd in G.nodes() if not infected[nd]], \n",
    "                           pos=pos, node_color='black')\n",
    "    nx.draw_networkx_edges(G, ax=ax[0], pos=pos, alpha = 0.3)\n",
    "    plt.show()"
   ]
  },
  {
   "cell_type": "code",
   "execution_count": null,
   "metadata": {},
   "outputs": [],
   "source": [
    "G = nx.gnm_random_graph(150,300)\n",
    "\n",
    "nx.draw(G)\n",
    "\n",
    "# Select highest degree node as seed\n",
    "seed = [sorted(G.degree, key=lambda x: x[1], reverse=True)[0][0]]\n",
    "\n",
    "vis_cascade(G,[0],0.1,10)"
   ]
  },
  {
   "cell_type": "code",
   "execution_count": null,
   "metadata": {},
   "outputs": [],
   "source": [
    "G = nx.barabasi_albert_graph(150, 2)\n",
    "print(len(G.edges()))\n",
    "\n",
    "# select highest degree node as seed\n",
    "seed = [sorted(G.degree, key=lambda x: x[1], reverse=True)[0][0]]\n",
    "seed = [0]\n",
    "vis_cascade(G,seed,0.2,10)"
   ]
  },
  {
   "cell_type": "code",
   "execution_count": null,
   "metadata": {},
   "outputs": [],
   "source": [
    "G = nx.planted_partition_graph(3, 50, 0.1, 0.0005)\n",
    "\n",
    "vis_cascade(G,seed,0.2,10)"
   ]
  },
  {
   "cell_type": "code",
   "execution_count": null,
   "metadata": {},
   "outputs": [],
   "source": [
    "G = nx.planted_partition_graph(3, 50, 0.1, 0.0005)\n",
    "\n",
    "model = ep.ThresholdModel(G)\n",
    "config = mc.Configuration()\n",
    "\n",
    "threshold = 0.2\n",
    "infected_initial = [0]\n",
    "for i in G.nodes():\n",
    "    config.add_node_configuration(\"threshold\", i, threshold)\n",
    "\n",
    "config.add_model_initial_configuration(\"Infected\", infected_initial)\n",
    "model.set_initial_status(config)\n",
    "\n",
    "infected = defaultdict(lambda: False)\n",
    "\n",
    "iterations = model.iteration_bunch(50)\n",
    "\n",
    "for j in range(50):\n",
    "    for node in iterations[j]['status'].keys():\n",
    "        if iterations[j]['status'][node]==1:\n",
    "            infected[node]=True\n",
    "        \n",
    "fig, ax = plt.subplots(figsize = a4_dims)\n",
    "\n",
    "pos = nx.kamada_kawai_layout(G,pos=pos)\n",
    "\n",
    "nx.draw_networkx_nodes(G, ax=ax, nodelist = [nd for nd in G.nodes() if infected[nd]], \n",
    "                       pos=pos, node_color='red')\n",
    "nx.draw_networkx_nodes(G, ax=ax, nodelist = [nd for nd in G.nodes() if not infected[nd]], \n",
    "                       pos=pos, node_color='black')\n",
    "nx.draw_networkx_edges(G, ax=ax, pos=pos, alpha = 0.3)"
   ]
  },
  {
   "cell_type": "markdown",
   "metadata": {},
   "source": [
    " "
   ]
  }
 ],
 "metadata": {
  "kernelspec": {
   "display_name": "Python 3",
   "language": "python",
   "name": "python3"
  },
  "language_info": {
   "codemirror_mode": {
    "name": "ipython",
    "version": 3
   },
   "file_extension": ".py",
   "mimetype": "text/x-python",
   "name": "python",
   "nbconvert_exporter": "python",
   "pygments_lexer": "ipython3",
   "version": "3.9.0"
  }
 },
 "nbformat": 4,
 "nbformat_minor": 4
}
